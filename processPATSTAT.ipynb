{
 "cells": [
  {
   "cell_type": "code",
   "execution_count": 1,
   "id": "e420d98e",
   "metadata": {},
   "outputs": [
    {
     "data": {
      "text/plain": [
       "'3.1.1'"
      ]
     },
     "execution_count": 1,
     "metadata": {},
     "output_type": "execute_result"
    }
   ],
   "source": [
    "sc.version"
   ]
  },
  {
   "cell_type": "markdown",
   "id": "47791f9f",
   "metadata": {},
   "source": [
    "### Imports"
   ]
  },
  {
   "cell_type": "code",
   "execution_count": 2,
   "id": "43e00d6f",
   "metadata": {},
   "outputs": [],
   "source": [
    "from configparser import ConfigParser\n",
    "from pathlib import Path\n",
    "import time\n"
   ]
  },
  {
   "cell_type": "markdown",
   "id": "34fbb4ea",
   "metadata": {},
   "source": [
    "### Define directories"
   ]
  },
  {
   "cell_type": "code",
   "execution_count": 3,
   "id": "7c0e75ca",
   "metadata": {},
   "outputs": [],
   "source": [
    "# Define directories\n",
    "#\n",
    "# Relevant directories are read from the config file:\n",
    "# dir_data:    full path to hdfs directory where the raw data .gz files are stored\n",
    "# dir_parquet: full path to hdfs directory where the parquet tables will be stored\n",
    "\n",
    "cf = ConfigParser()\n",
    "cf.read(\"../config.cf\")\n",
    "\n",
    "dir_data = Path(cf.get(\"spark\", \"dir_data\"))\n",
    "dir_parquet = Path(cf.get(\"spark\", \"dir_parquet\"))"
   ]
  },
  {
   "cell_type": "code",
   "execution_count": 4,
   "id": "78c5547c",
   "metadata": {},
   "outputs": [],
   "source": [
    "# Configuration hdfs\n",
    "fs = spark._jvm.org.apache.hadoop.fs.FileSystem.get(spark._jsc.hadoopConfiguration())\n",
    "hdfs_dir_parquet = spark._jvm.org.apache.hadoop.fs.Path(dir_parquet.as_posix())\n",
    "\n",
    "# Create output directories if they do not exist\n",
    "# !hadoop dfs ...\n",
    "# !hadoop dfs -put 20220201 /export/ml4ds/IntelComp/Datalake/SemanticScholar/\n",
    "\n",
    "if not fs.exists(hdfs_dir_parquet):\n",
    "    fs.mkdirs(hdfs_dir_parquet)\n"
   ]
  },
  {
   "cell_type": "markdown",
   "id": "91bd6c10",
   "metadata": {},
   "source": [
    "### Save files tables to parquet"
   ]
  },
  {
   "cell_type": "code",
   "execution_count": 9,
   "id": "2392d4db",
   "metadata": {},
   "outputs": [
    {
     "name": "stdout",
     "output_type": "stream",
     "text": [
      "tls803\n"
     ]
    },
    {
     "name": "stderr",
     "output_type": "stream",
     "text": [
      "                                                                                \r"
     ]
    },
    {
     "name": "stdout",
     "output_type": "stream",
     "text": [
      "Dataframe saved in 14.163s\n",
      "tls801\n"
     ]
    },
    {
     "name": "stderr",
     "output_type": "stream",
     "text": [
      "                                                                                \r"
     ]
    },
    {
     "name": "stdout",
     "output_type": "stream",
     "text": [
      "Dataframe saved in 3.141s\n"
     ]
    }
   ],
   "source": [
    "tables = set([f.name.split(\"_\")[0] for f in dir_data.iterdir() if f.name.endswith(\".gz\")])\n",
    "# tables = [\"tls803\", \"tls801\"]\n",
    "\n",
    "for t in tables:\n",
    "    t0 = time.time()\n",
    "    print(\"Table:\", t)\n",
    "    # Read all gz of same table\n",
    "    df = spark.read.csv(f\"file://{dir_data.joinpath(t).as_posix()}*.gz\", header=True)\n",
    "#     df.show(5, truncate=False)\n",
    "\n",
    "    # Save to parquet\n",
    "    df.write.parquet(\n",
    "        dir_parquet.joinpath(f\"{t}.parquet\").as_posix(),\n",
    "        mode=\"overwrite\",\n",
    "    )\n",
    "    print(f\"Dataframe saved in {time.time()-t0:.3f}s\")"
   ]
  }
 ],
 "metadata": {
  "kernelspec": {
   "display_name": "Python 3 (ipykernel)",
   "language": "python",
   "name": "python3"
  },
  "language_info": {
   "codemirror_mode": {
    "name": "ipython",
    "version": 3
   },
   "file_extension": ".py",
   "mimetype": "text/x-python",
   "name": "python",
   "nbconvert_exporter": "python",
   "pygments_lexer": "ipython3",
   "version": "3.8.12"
  }
 },
 "nbformat": 4,
 "nbformat_minor": 5
}
